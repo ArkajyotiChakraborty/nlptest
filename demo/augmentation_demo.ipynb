{
 "cells": [
  {
   "cell_type": "code",
   "execution_count": null,
   "metadata": {},
   "outputs": [],
   "source": [
    "import sys \n",
    "sys.path.insert(0, '..')"
   ]
  },
  {
   "cell_type": "code",
   "execution_count": null,
   "metadata": {},
   "outputs": [],
   "source": [
    "from nlptest import Harness"
   ]
  },
  {
   "attachments": {},
   "cell_type": "markdown",
   "metadata": {},
   "source": [
    "### Harness"
   ]
  },
  {
   "cell_type": "code",
   "execution_count": null,
   "metadata": {},
   "outputs": [],
   "source": [
    "harness = Harness(\n",
    "            task='ner',\n",
    "            model='dslim/bert-base-NER',# 'en_core_web_sm',#\n",
    "            #model='en_core_web_sm',#\n",
    "            data= './data/test.conll',\n",
    "            config= './data/config.yml',\n",
    "            hub=\"huggingface\"\n",
    "        )"
   ]
  },
  {
   "attachments": {},
   "cell_type": "markdown",
   "metadata": {},
   "source": [
    "### One-Liner Testing Model"
   ]
  },
  {
   "cell_type": "code",
   "execution_count": null,
   "metadata": {},
   "outputs": [
    {
     "name": "stdout",
     "output_type": "stream",
     "text": [
      "replace_to_female_pronouns\n",
      "replace_to_male_pronouns\n",
      "lowercase\n",
      "uppercase\n",
      "add_context\n",
      "75 predictions have different lenghts than dataset and will be ignored.\n",
      "Please make sure dataset and model uses same tokenizer.\n"
     ]
    },
    {
     "data": {
      "text/html": [
       "<div>\n",
       "<style scoped>\n",
       "    .dataframe tbody tr th:only-of-type {\n",
       "        vertical-align: middle;\n",
       "    }\n",
       "\n",
       "    .dataframe tbody tr th {\n",
       "        vertical-align: top;\n",
       "    }\n",
       "\n",
       "    .dataframe thead th {\n",
       "        text-align: right;\n",
       "    }\n",
       "</style>\n",
       "<table border=\"1\" class=\"dataframe\">\n",
       "  <thead>\n",
       "    <tr style=\"text-align: right;\">\n",
       "      <th></th>\n",
       "      <th>test_type</th>\n",
       "      <th>category</th>\n",
       "      <th>fail_count</th>\n",
       "      <th>pass_count</th>\n",
       "      <th>pass_rate</th>\n",
       "      <th>minimum_pass_rate</th>\n",
       "      <th>pass</th>\n",
       "    </tr>\n",
       "  </thead>\n",
       "  <tbody>\n",
       "    <tr>\n",
       "      <th>0</th>\n",
       "      <td>replace_to_female_pronouns</td>\n",
       "      <td>Bias</td>\n",
       "      <td>3</td>\n",
       "      <td>88</td>\n",
       "      <td>97%</td>\n",
       "      <td>65%</td>\n",
       "      <td>True</td>\n",
       "    </tr>\n",
       "    <tr>\n",
       "      <th>1</th>\n",
       "      <td>replace_to_male_pronouns</td>\n",
       "      <td>Bias</td>\n",
       "      <td>0</td>\n",
       "      <td>91</td>\n",
       "      <td>100%</td>\n",
       "      <td>65%</td>\n",
       "      <td>True</td>\n",
       "    </tr>\n",
       "    <tr>\n",
       "      <th>2</th>\n",
       "      <td>lowercase</td>\n",
       "      <td>Robustness</td>\n",
       "      <td>82</td>\n",
       "      <td>9</td>\n",
       "      <td>10%</td>\n",
       "      <td>65%</td>\n",
       "      <td>False</td>\n",
       "    </tr>\n",
       "    <tr>\n",
       "      <th>3</th>\n",
       "      <td>uppercase</td>\n",
       "      <td>Robustness</td>\n",
       "      <td>84</td>\n",
       "      <td>7</td>\n",
       "      <td>8%</td>\n",
       "      <td>65%</td>\n",
       "      <td>False</td>\n",
       "    </tr>\n",
       "    <tr>\n",
       "      <th>4</th>\n",
       "      <td>add_context</td>\n",
       "      <td>Robustness</td>\n",
       "      <td>91</td>\n",
       "      <td>0</td>\n",
       "      <td>0%</td>\n",
       "      <td>65%</td>\n",
       "      <td>False</td>\n",
       "    </tr>\n",
       "  </tbody>\n",
       "</table>\n",
       "</div>"
      ],
      "text/plain": [
       "                    test_type    category  fail_count  pass_count pass_rate  \\\n",
       "0  replace_to_female_pronouns        Bias           3          88       97%   \n",
       "1    replace_to_male_pronouns        Bias           0          91      100%   \n",
       "2                   lowercase  Robustness          82           9       10%   \n",
       "3                   uppercase  Robustness          84           7        8%   \n",
       "4                 add_context  Robustness          91           0        0%   \n",
       "\n",
       "  minimum_pass_rate   pass  \n",
       "0               65%   True  \n",
       "1               65%   True  \n",
       "2               65%  False  \n",
       "3               65%  False  \n",
       "4               65%  False  "
      ]
     },
     "metadata": {},
     "output_type": "display_data"
    }
   ],
   "source": [
    "harness.generate().run().report()"
   ]
  },
  {
   "attachments": {},
   "cell_type": "markdown",
   "metadata": {},
   "source": [
    "### One-Liner Augmentaion on train data\n"
   ]
  },
  {
   "cell_type": "code",
   "execution_count": null,
   "metadata": {},
   "outputs": [
    {
     "name": "stdout",
     "output_type": "stream",
     "text": [
      "['<i4', '<i4']\n",
      "lowercase\n",
      "uppercase\n",
      "add_context\n"
     ]
    }
   ],
   "source": [
    "gdd = harness.augment(\"./data/train.conll\", \"./augmenated_train.conll\", inplace=True) # dataset length is same"
   ]
  },
  {
   "cell_type": "code",
   "execution_count": null,
   "metadata": {},
   "outputs": [
    {
     "name": "stdout",
     "output_type": "stream",
     "text": [
      "['<i4', '<i4']\n",
      "lowercase\n",
      "uppercase\n",
      "add_context\n"
     ]
    }
   ],
   "source": [
    "gdd = harness.augment(\"./data/train.conll\", \"./augmenated_train.conll\", inplace=False) # dataset length may increase"
   ]
  }
 ],
 "metadata": {
  "language_info": {
   "name": "python"
  },
  "orig_nbformat": 4
 },
 "nbformat": 4,
 "nbformat_minor": 2
}

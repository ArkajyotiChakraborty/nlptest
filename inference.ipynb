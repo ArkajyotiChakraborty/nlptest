{
 "cells": [
  {
   "cell_type": "code",
   "execution_count": 2,
   "metadata": {},
   "outputs": [],
   "source": [
    "# Install nlptes\n",
    "# Import and create a Harness object\n",
    "from nlptest import Harness\n",
    "h = Harness(task='ner', model='dslim/bert-base-NER', hub='huggingface')"
   ]
  },
  {
   "cell_type": "code",
   "execution_count": 6,
   "metadata": {},
   "outputs": [
    {
     "name": "stdout",
     "output_type": "stream",
     "text": [
      "{'off': 'of', 'loose': 'lose', 'then': 'than', 'through': 'though', 'will': 'well', 'hair': 'air', 'could': 'would', 'would': 'might', 'air': 'heir', \"you're\": 'your', 'right': 'write', 'for': 'four', 'hear': 'here', 'high': 'hi', 'our': 'hour', 'know': 'no', 'knight': 'height', 'not': 'knot', 'sea': 'see', 'cents': 'since', 'sum': 'some', 'eight': 'ate', 'malt': 'mate', 'marry': 'merry', 'meat': 'meet', 'sun': 'son', 'site': 'sight', 'won': 'one', 'weight': 'wait', 'where': 'wear', 'by': 'bye', 'buy': 'by', 'too': 'to', 'their': 'there'}\n"
     ]
    }
   ],
   "source": [
    "from nlptest.transform.utils import dyslexia_map\n",
    "swap_words = {\n",
    "            k: v for dict in dyslexia_map.values() for k, v in dict.items()\n",
    "        }\n",
    "swap_words_2 = {v: k for k, v in swap_words.items()}\n",
    "print(swap_words_2)\n"
   ]
  },
  {
   "cell_type": "code",
   "execution_count": 3,
   "metadata": {},
   "outputs": [
    {
     "name": "stderr",
     "output_type": "stream",
     "text": [
      "Generating testcases... (representation): 100%|██████████| 6/6 [00:00<00:00, 35.52it/s]\n",
      "Running testcases... : 100%|██████████| 913/913 [06:03<00:00,  2.51it/s]\n"
     ]
    },
    {
     "data": {
      "text/html": [
       "<div>\n",
       "<style scoped>\n",
       "    .dataframe tbody tr th:only-of-type {\n",
       "        vertical-align: middle;\n",
       "    }\n",
       "\n",
       "    .dataframe tbody tr th {\n",
       "        vertical-align: top;\n",
       "    }\n",
       "\n",
       "    .dataframe thead th {\n",
       "        text-align: right;\n",
       "    }\n",
       "</style>\n",
       "<table border=\"1\" class=\"dataframe\">\n",
       "  <thead>\n",
       "    <tr style=\"text-align: right;\">\n",
       "      <th></th>\n",
       "      <th>category</th>\n",
       "      <th>test_type</th>\n",
       "      <th>fail_count</th>\n",
       "      <th>pass_count</th>\n",
       "      <th>pass_rate</th>\n",
       "      <th>minimum_pass_rate</th>\n",
       "      <th>pass</th>\n",
       "    </tr>\n",
       "  </thead>\n",
       "  <tbody>\n",
       "    <tr>\n",
       "      <th>0</th>\n",
       "      <td>robustness</td>\n",
       "      <td>add_typo</td>\n",
       "      <td>37</td>\n",
       "      <td>189</td>\n",
       "      <td>84%</td>\n",
       "      <td>70%</td>\n",
       "      <td>True</td>\n",
       "    </tr>\n",
       "    <tr>\n",
       "      <th>1</th>\n",
       "      <td>robustness</td>\n",
       "      <td>american_to_british</td>\n",
       "      <td>0</td>\n",
       "      <td>226</td>\n",
       "      <td>100%</td>\n",
       "      <td>70%</td>\n",
       "      <td>True</td>\n",
       "    </tr>\n",
       "    <tr>\n",
       "      <th>2</th>\n",
       "      <td>accuracy</td>\n",
       "      <td>min_micro_f1_score</td>\n",
       "      <td>0</td>\n",
       "      <td>1</td>\n",
       "      <td>100%</td>\n",
       "      <td>100%</td>\n",
       "      <td>True</td>\n",
       "    </tr>\n",
       "    <tr>\n",
       "      <th>3</th>\n",
       "      <td>bias</td>\n",
       "      <td>replace_to_female_pronouns</td>\n",
       "      <td>1</td>\n",
       "      <td>225</td>\n",
       "      <td>100%</td>\n",
       "      <td>70%</td>\n",
       "      <td>True</td>\n",
       "    </tr>\n",
       "    <tr>\n",
       "      <th>4</th>\n",
       "      <td>bias</td>\n",
       "      <td>replace_to_low_income_country</td>\n",
       "      <td>6</td>\n",
       "      <td>220</td>\n",
       "      <td>97%</td>\n",
       "      <td>70%</td>\n",
       "      <td>True</td>\n",
       "    </tr>\n",
       "    <tr>\n",
       "      <th>5</th>\n",
       "      <td>fairness</td>\n",
       "      <td>min_gender_f1_score</td>\n",
       "      <td>0</td>\n",
       "      <td>3</td>\n",
       "      <td>100%</td>\n",
       "      <td>100%</td>\n",
       "      <td>True</td>\n",
       "    </tr>\n",
       "    <tr>\n",
       "      <th>6</th>\n",
       "      <td>representation</td>\n",
       "      <td>min_label_representation_count</td>\n",
       "      <td>0</td>\n",
       "      <td>5</td>\n",
       "      <td>100%</td>\n",
       "      <td>100%</td>\n",
       "      <td>True</td>\n",
       "    </tr>\n",
       "  </tbody>\n",
       "</table>\n",
       "</div>"
      ],
      "text/plain": [
       "         category                       test_type  fail_count  pass_count  \\\n",
       "0      robustness                        add_typo          37         189   \n",
       "1      robustness             american_to_british           0         226   \n",
       "2        accuracy              min_micro_f1_score           0           1   \n",
       "3            bias      replace_to_female_pronouns           1         225   \n",
       "4            bias   replace_to_low_income_country           6         220   \n",
       "5        fairness             min_gender_f1_score           0           3   \n",
       "6  representation  min_label_representation_count           0           5   \n",
       "\n",
       "  pass_rate minimum_pass_rate  pass  \n",
       "0       84%               70%  True  \n",
       "1      100%               70%  True  \n",
       "2      100%              100%  True  \n",
       "3      100%               70%  True  \n",
       "4       97%               70%  True  \n",
       "5      100%              100%  True  \n",
       "6      100%              100%  True  "
      ]
     },
     "execution_count": 3,
     "metadata": {},
     "output_type": "execute_result"
    }
   ],
   "source": [
    "#h.configure(\"config_1.yml\")\n",
    "h.generate().run().report()"
   ]
  }
 ],
 "metadata": {
  "kernelspec": {
   "display_name": "Python 3",
   "language": "python",
   "name": "python3"
  },
  "language_info": {
   "codemirror_mode": {
    "name": "ipython",
    "version": 3
   },
   "file_extension": ".py",
   "mimetype": "text/x-python",
   "name": "python",
   "nbconvert_exporter": "python",
   "pygments_lexer": "ipython3",
   "version": "3.11.0"
  },
  "orig_nbformat": 4
 },
 "nbformat": 4,
 "nbformat_minor": 2
}
